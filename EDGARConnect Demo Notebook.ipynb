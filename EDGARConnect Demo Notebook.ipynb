{
 "cells": [
  {
   "cell_type": "markdown",
   "id": "5d7ecd0f",
   "metadata": {
    "toc": true
   },
   "source": [
    "<h1>Table of Contents<span class=\"tocSkip\"></span></h1>\n",
    "<div class=\"toc\"><ul class=\"toc-item\"><li><span><a href=\"#Getting-Started\" data-toc-modified-id=\"Getting-Started-1\"><span class=\"toc-item-num\">1&nbsp;&nbsp;</span>Getting Started</a></span><ul class=\"toc-item\"><li><span><a href=\"#Configuration\" data-toc-modified-id=\"Configuration-1.1\"><span class=\"toc-item-num\">1.1&nbsp;&nbsp;</span>Configuration</a></span></li><li><span><a href=\"#Download-the-Master-Indexes\" data-toc-modified-id=\"Download-the-Master-Indexes-1.2\"><span class=\"toc-item-num\">1.2&nbsp;&nbsp;</span>Download the Master Indexes</a></span></li><li><span><a href=\"#Check-Download-Plan\" data-toc-modified-id=\"Check-Download-Plan-1.3\"><span class=\"toc-item-num\">1.3&nbsp;&nbsp;</span>Check Download Plan</a></span></li></ul></li><li><span><a href=\"#Downloading\" data-toc-modified-id=\"Downloading-2\"><span class=\"toc-item-num\">2&nbsp;&nbsp;</span>Downloading</a></span></li></ul></div>"
   ]
  },
  {
   "cell_type": "code",
   "execution_count": 1,
   "id": "c14df5b0",
   "metadata": {},
   "outputs": [],
   "source": [
    "from EDGARConnect import EDGARConnect"
   ]
  },
  {
   "cell_type": "markdown",
   "id": "8d657c00",
   "metadata": {},
   "source": [
    "# Getting Started"
   ]
  },
  {
   "cell_type": "markdown",
   "id": "3a5014d9",
   "metadata": {},
   "source": [
    "Instantiate an EDGARConnect object and tell it the path you want to write all the output to. You can also pass in a dictionary of headers or a dictionary of retry arguments to be passed to the Requests session. By default, EDGARConnect will use a fake user-agent (the <a href=\"\">fake-useragent</a> package is required), and some reasonable header values. \n",
    "\n",
    "Default back-off behavior exponential back-off is 8 retries with a base of 2. See the docstring for more details."
   ]
  },
  {
   "cell_type": "code",
   "execution_count": 2,
   "id": "e4acf2cd",
   "metadata": {},
   "outputs": [],
   "source": [
    "edgar = EDGARConnect(edgar_path=\"\")"
   ]
  },
  {
   "cell_type": "markdown",
   "id": "25de685f",
   "metadata": {},
   "source": [
    "Print the object to check the configuration status"
   ]
  },
  {
   "cell_type": "code",
   "execution_count": 3,
   "id": "ef4d3bbf",
   "metadata": {},
   "outputs": [
    {
     "name": "stdout",
     "output_type": "stream",
     "text": [
      "SEC Edgar Scraper for Python, v0.0\n",
      "Files to be scraped have NOT been defined.\n",
      "Choose scraping targets using the configure_downloader() method\n"
     ]
    }
   ],
   "source": [
    "print(edgar)"
   ]
  },
  {
   "cell_type": "markdown",
   "id": "f834357e",
   "metadata": {},
   "source": [
    "## Configuration\n",
    "\n",
    "Call the configure_downloader() method to tell it which forms and date ranges you are interested in. end_date = None tells it to go up to the present day."
   ]
  },
  {
   "cell_type": "code",
   "execution_count": 4,
   "id": "487fa9ec",
   "metadata": {},
   "outputs": [],
   "source": [
    "edgar.configure_downloader(target_forms=\"10-K\", start_date=\"2021-07-01\", end_date=None)"
   ]
  },
  {
   "cell_type": "code",
   "execution_count": 5,
   "id": "070c78ff",
   "metadata": {},
   "outputs": [
    {
     "name": "stdout",
     "output_type": "stream",
     "text": [
      "SEC Edgar Scraper for Python, v0.0\n",
      "EDGARConnect is configured for scraping.\n",
      "\t Target Forms: ['10-K']\n",
      "\t Date Range: 2021Q3 to 2021Q3\n",
      "\n"
     ]
    }
   ],
   "source": [
    "print(edgar)"
   ]
  },
  {
   "cell_type": "markdown",
   "id": "948e5f07",
   "metadata": {},
   "source": [
    "You can also ask for multiple filings by passing in a list"
   ]
  },
  {
   "cell_type": "code",
   "execution_count": 6,
   "id": "0e6509ef",
   "metadata": {},
   "outputs": [
    {
     "name": "stdout",
     "output_type": "stream",
     "text": [
      "SEC Edgar Scraper for Python, v0.0\n",
      "EDGARConnect is configured for scraping.\n",
      "\t Target Forms: ['10-K', '10-Q']\n",
      "\t Date Range: 2021Q3 to 2021Q3\n",
      "\n"
     ]
    }
   ],
   "source": [
    "edgar.configure_downloader(\n",
    "    target_forms=[\"10-K\", \"10-Q\"], start_date=\"2021-07-01\", end_date=None\n",
    ")\n",
    "print(edgar)"
   ]
  },
  {
   "cell_type": "markdown",
   "id": "e1422c87",
   "metadata": {},
   "source": [
    "Finally, for convenience, the EDGARConnect instance has a built-in dictionary of closely related forms. These lists were taken from Bill McDonald and Tim Loughran's EDGAR download script. Keys for the built-in dictionary can be displayed using the <code>show_available_forms()</code> method"
   ]
  },
  {
   "cell_type": "code",
   "execution_count": 7,
   "id": "5b2a0fea",
   "metadata": {},
   "outputs": [
    {
     "name": "stdout",
     "output_type": "stream",
     "text": [
      "Available forms:\n",
      "f_10k -> ['10-K', '10-K405', '10KSB', '10-KSB', '10KSB40']\n",
      "f_10ka -> ['10-K/A', '10-K405/A', '10KSB/A', '10-KSB/A', '10KSB40/A']\n",
      "f_10kt -> ['10-KT', '10KT405', '10-KT/A', '10KT405/A']\n",
      "f_10q -> ['10-Q', '10QSB', '10-QSB']\n",
      "f_10qa -> ['10-Q/A', '10QSB/A', '10-QSB/A']\n",
      "f_10qt -> ['10-QT', '10-QT/A']\n",
      "f_10x -> ['10-K', '10-K405', '10KSB', '10-KSB', '10KSB40', '10-K/A', '10-K405/A', '10KSB/A', '10-KSB/A', '10KSB40/A', '10-KT', '10KT405', '10-KT/A', '10KT405/A', '10-Q', '10QSB', '10-QSB', '10-Q/A', '10QSB/A', '10-QSB/A', '10-QT', '10-QT/A']\n"
     ]
    }
   ],
   "source": [
    "edgar.show_available_forms()"
   ]
  },
  {
   "cell_type": "markdown",
   "id": "bab905f9",
   "metadata": {},
   "source": [
    "And the list can be accessed as follows:"
   ]
  },
  {
   "cell_type": "code",
   "execution_count": 8,
   "id": "0ecafa50",
   "metadata": {},
   "outputs": [
    {
     "name": "stdout",
     "output_type": "stream",
     "text": [
      "SEC Edgar Scraper for Python, v0.0\n",
      "EDGARConnect is configured for scraping.\n",
      "\t Target Forms: ['10-K', '10-K405', '10KSB', '10-KSB', '10KSB40']\n",
      "\t Date Range: 2021Q3 to 2021Q3\n",
      "\n"
     ]
    }
   ],
   "source": [
    "edgar.configure_downloader(\n",
    "    target_forms=edgar.forms[\"f_10k\"], start_date=\"2021-07-01\", end_date=None\n",
    ")\n",
    "print(edgar)"
   ]
  },
  {
   "cell_type": "markdown",
   "id": "726604d4",
   "metadata": {},
   "source": [
    "## Download the Master Indexes\n",
    "\n",
    "EDGARConnect first downloads all the SEC master indexes to your HDD. To do this, use the download_master_indexes() method. These files are quarterly pipe-delimited tables of URLs to corporate filings. By default, EDGARConnect will update the 2 most recent quarters every time you run download_master_indexes(), but you can modify this behavior by passing parameters. "
   ]
  },
  {
   "cell_type": "code",
   "execution_count": 9,
   "id": "1be43a8c",
   "metadata": {},
   "outputs": [
    {
     "name": "stdout",
     "output_type": "stream",
     "text": [
      "\n",
      "Downloading 1 / 1 [==================================================] elapsed: 00:00, remaining: 00:00, 1002.70iter/sec\n"
     ]
    }
   ],
   "source": [
    "edgar.download_master_indexes(update_range=0, update_all=False)"
   ]
  },
  {
   "cell_type": "markdown",
   "id": "198511e6",
   "metadata": {},
   "source": [
    "## Check Download Plan\n",
    "\n",
    "After the master lists are downloaded, EDGARConnect can download everything you request from the SEC archive. You can show the download plan using the show_download_plan() method. This is important because the number of filings is quite surprising... it's nice to know what you're signing up for."
   ]
  },
  {
   "cell_type": "code",
   "execution_count": 10,
   "id": "c49c721a",
   "metadata": {
    "scrolled": true
   },
   "outputs": [
    {
     "name": "stdout",
     "output_type": "stream",
     "text": [
      "EDGARConnect is prepared to download 5 types of filings between 2021Q3 and 2021Q3\n",
      "\tNumber of 10-Ks: 64\n",
      "\tNumber of 10-K405s: 0\n",
      "\tNumber of 10KSBs: 0\n",
      "\tNumber of 10-KSBs: 0\n",
      "\tNumber of 10KSB40s: 0\n",
      "==============================\n",
      "\tTotal files: 64\n",
      "Estimated download time, assuming 1s per file: 0 Days, 0 hours, 1 minutes, 4 seconds\n",
      "Estimated drive space, assuming 150KB per filing: 0.01GB\n"
     ]
    }
   ],
   "source": [
    "edgar.show_download_plan()"
   ]
  },
  {
   "cell_type": "markdown",
   "id": "3fa9e1e0",
   "metadata": {},
   "source": [
    "# Downloading\n",
    "\n",
    "When you're ready to go, use the download_requested_filings() method to start grabbing stuff. It will always check if a file already exists and skip it if it does, so it is robust to starts and stops."
   ]
  },
  {
   "cell_type": "code",
   "execution_count": null,
   "id": "e0a7b3a8",
   "metadata": {},
   "outputs": [
    {
     "name": "stdout",
     "output_type": "stream",
     "text": [
      "Gathering URLS for the requested forms...\n",
      "Beginning scraping from 2021Q3\n",
      "2021Q3 10-K       Found 43 / 64 locally, requesting the remaining 21...\n",
      "2021Q3 10-K       50 / 64 [===============================         ] elapsed: 01:00, remaining: 07:09, 8.62sec/iterr\r"
     ]
    }
   ],
   "source": [
    "edgar.download_requested_filings(ignore_time_guidelines=True, remove_attachments=False)"
   ]
  },
  {
   "cell_type": "markdown",
   "id": "bbc9122b",
   "metadata": {},
   "source": [
    "There are two arguments that can be passed to the <code>download_requested_filings()</code> method. \n",
    "\n",
    "The first is <code>ignore_time_guidelines</code>. The SEC requests that users bulk download only between 9PM and 6AM EST. By default, EDGARConnect will help you check if it's a good time to download and raise an error if it's not. It will also perform this check periodically while downloads are going on (it does it every time a new batch of forms is selected for download).\n",
    "\n",
    "To disable this behavior, pass <code>ignore_time_guidelines = True</code>. If your download times slow to a crawl it's because the SEC identified you as a mass-downloader and throttled you.\n",
    "\n",
    "The second is <code>remove_attachments</code>. Despite being .txt files, some filings include large images, spreadsheets, or PDFs, causing the filings to be quite large (the largest I found was 250 MB). If you don't explicitly need these attachments, I recommend passing <code>remove_attachments = True</code>. This will pass all downloaded filings into a function that tries to strip out as many of these attachments as possible, saving considerable disk space when downloading large numbers of filings."
   ]
  }
 ],
 "metadata": {
  "kernelspec": {
   "display_name": "Python 3",
   "language": "python",
   "name": "python3"
  },
  "language_info": {
   "codemirror_mode": {
    "name": "ipython",
    "version": 3
   },
   "file_extension": ".py",
   "mimetype": "text/x-python",
   "name": "python",
   "nbconvert_exporter": "python",
   "pygments_lexer": "ipython3",
   "version": "3.8.8"
  },
  "toc": {
   "base_numbering": 1,
   "nav_menu": {},
   "number_sections": true,
   "sideBar": true,
   "skip_h1_title": false,
   "title_cell": "Table of Contents",
   "title_sidebar": "Contents",
   "toc_cell": true,
   "toc_position": {},
   "toc_section_display": true,
   "toc_window_display": false
  }
 },
 "nbformat": 4,
 "nbformat_minor": 5
}
