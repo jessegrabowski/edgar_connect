{
 "cells": [
  {
   "cell_type": "markdown",
   "id": "5d7ecd0f",
   "metadata": {
    "toc": true
   },
   "source": [
    "<h1>Table of Contents<span class=\"tocSkip\"></span></h1>\n",
    "<div class=\"toc\"><ul class=\"toc-item\"><li><span><a href=\"#Getting-Started\" data-toc-modified-id=\"Getting-Started-1\"><span class=\"toc-item-num\">1&nbsp;&nbsp;</span>Getting Started</a></span><ul class=\"toc-item\"><li><span><a href=\"#Configuration\" data-toc-modified-id=\"Configuration-1.1\"><span class=\"toc-item-num\">1.1&nbsp;&nbsp;</span>Configuration</a></span></li><li><span><a href=\"#Download-the-Master-Indexes\" data-toc-modified-id=\"Download-the-Master-Indexes-1.2\"><span class=\"toc-item-num\">1.2&nbsp;&nbsp;</span>Download the Master Indexes</a></span></li><li><span><a href=\"#Check-Download-Plan\" data-toc-modified-id=\"Check-Download-Plan-1.3\"><span class=\"toc-item-num\">1.3&nbsp;&nbsp;</span>Check Download Plan</a></span></li></ul></li><li><span><a href=\"#Downloading\" data-toc-modified-id=\"Downloading-2\"><span class=\"toc-item-num\">2&nbsp;&nbsp;</span>Downloading</a></span></li></ul></div>"
   ]
  },
  {
   "cell_type": "code",
   "execution_count": 1,
   "id": "c14df5b0",
   "metadata": {
    "jupyter": {
     "is_executing": true
    }
   },
   "outputs": [],
   "source": [
    "from edgar_connect import EDGARConnect"
   ]
  },
  {
   "cell_type": "markdown",
   "id": "8d657c00",
   "metadata": {},
   "source": [
    "# Getting Started"
   ]
  },
  {
   "cell_type": "markdown",
   "id": "3a5014d9",
   "metadata": {},
   "source": [
    "Instantiate an EDGARConnect object and tell it the path you want to write all the output to. You can also pass in a dictionary of headers or a dictionary of retry arguments to be passed to the Requests session. By default, EDGARConnect will use a fake user-agent (the <a href=\"\">fake-useragent</a> package is required), and some reasonable header values. \n",
    "\n",
    "Default back-off behavior exponential back-off is 8 retries with a base of 2. See the docstring for more details."
   ]
  },
  {
   "cell_type": "code",
   "execution_count": 2,
   "id": "e4acf2cd",
   "metadata": {},
   "outputs": [],
   "source": [
    "edgar = EDGARConnect(edgar_path=\"\")"
   ]
  },
  {
   "cell_type": "markdown",
   "id": "25de685f",
   "metadata": {},
   "source": [
    "Print the object to check the configuration status"
   ]
  },
  {
   "cell_type": "code",
   "execution_count": 3,
   "id": "ef4d3bbf",
   "metadata": {},
   "outputs": [
    {
     "data": {
      "text/html": [
       "<pre style=\"white-space:pre;overflow-x:auto;line-height:normal;font-family:Menlo,'DejaVu Sans Mono',consolas,'Courier New',monospace\"><span style=\"font-style: italic\">                            EDGARConnect Configuration                            </span>\n",
       "┏━━━━━━━━━━━━━━┳━━━━━━━━━━━━━━━━━━━━━━━━━━━━━━━━━━━━━━━━━━━━━━━━━━━━━━━━━━━━━━━━━┓\n",
       "┃<span style=\"font-weight: bold\">    Attribute </span>┃<span style=\"font-weight: bold\"> Value                                                           </span>┃\n",
       "┡━━━━━━━━━━━━━━╇━━━━━━━━━━━━━━━━━━━━━━━━━━━━━━━━━━━━━━━━━━━━━━━━━━━━━━━━━━━━━━━━━┩\n",
       "│<span style=\"color: #008080; text-decoration-color: #008080\">      Version </span>│<span style=\"color: #800080; text-decoration-color: #800080\"> v0+untagged.38.geaea7b6.dirty                                   </span>│\n",
       "│<span style=\"color: #008080; text-decoration-color: #008080\">   Configured </span>│<span style=\"color: #800080; text-decoration-color: #800080\"> False                                                           </span>│\n",
       "│<span style=\"color: #008080; text-decoration-color: #008080\">       Status </span>│<span style=\"color: #800080; text-decoration-color: #800080\"> Files to be scraped have NOT been defined.                      </span>│\n",
       "│<span style=\"color: #008080; text-decoration-color: #008080\"> Instructions </span>│<span style=\"color: #800080; text-decoration-color: #800080\"> Choose scraping targets using the configure_downloader() method </span>│\n",
       "└──────────────┴─────────────────────────────────────────────────────────────────┘\n",
       "</pre>\n"
      ],
      "text/plain": [
       "\u001b[3m                            EDGARConnect Configuration                            \u001b[0m\n",
       "┏━━━━━━━━━━━━━━┳━━━━━━━━━━━━━━━━━━━━━━━━━━━━━━━━━━━━━━━━━━━━━━━━━━━━━━━━━━━━━━━━━┓\n",
       "┃\u001b[1m \u001b[0m\u001b[1m   Attribute\u001b[0m\u001b[1m \u001b[0m┃\u001b[1m \u001b[0m\u001b[1mValue                                                          \u001b[0m\u001b[1m \u001b[0m┃\n",
       "┡━━━━━━━━━━━━━━╇━━━━━━━━━━━━━━━━━━━━━━━━━━━━━━━━━━━━━━━━━━━━━━━━━━━━━━━━━━━━━━━━━┩\n",
       "│\u001b[36m \u001b[0m\u001b[36m     Version\u001b[0m\u001b[36m \u001b[0m│\u001b[35m \u001b[0m\u001b[35mv0+untagged.38.geaea7b6.dirty                                  \u001b[0m\u001b[35m \u001b[0m│\n",
       "│\u001b[36m \u001b[0m\u001b[36m  Configured\u001b[0m\u001b[36m \u001b[0m│\u001b[35m \u001b[0m\u001b[35mFalse                                                          \u001b[0m\u001b[35m \u001b[0m│\n",
       "│\u001b[36m \u001b[0m\u001b[36m      Status\u001b[0m\u001b[36m \u001b[0m│\u001b[35m \u001b[0m\u001b[35mFiles to be scraped have NOT been defined.                     \u001b[0m\u001b[35m \u001b[0m│\n",
       "│\u001b[36m \u001b[0m\u001b[36mInstructions\u001b[0m\u001b[36m \u001b[0m│\u001b[35m \u001b[0m\u001b[35mChoose scraping targets using the configure_downloader() method\u001b[0m\u001b[35m \u001b[0m│\n",
       "└──────────────┴─────────────────────────────────────────────────────────────────┘\n"
      ]
     },
     "metadata": {},
     "output_type": "display_data"
    },
    {
     "name": "stdout",
     "output_type": "stream",
     "text": [
      "\n"
     ]
    }
   ],
   "source": [
    "print(edgar)"
   ]
  },
  {
   "cell_type": "markdown",
   "id": "f834357e",
   "metadata": {},
   "source": [
    "## Configuration\n",
    "\n",
    "Call the configure_downloader() method to tell it which forms and date ranges you are interested in. end_date = None tells it to go up to the present day."
   ]
  },
  {
   "cell_type": "code",
   "execution_count": 4,
   "id": "487fa9ec",
   "metadata": {},
   "outputs": [],
   "source": [
    "edgar.configure_downloader(target_forms=\"10-K\", start_date=\"2021-07-01\", end_date=None)"
   ]
  },
  {
   "cell_type": "code",
   "execution_count": 5,
   "id": "070c78ff",
   "metadata": {},
   "outputs": [
    {
     "data": {
      "text/html": [
       "<pre style=\"white-space:pre;overflow-x:auto;line-height:normal;font-family:Menlo,'DejaVu Sans Mono',consolas,'Courier New',monospace\"><span style=\"font-style: italic\">           EDGARConnect Configuration           </span>\n",
       "┏━━━━━━━━━━━━━━┳━━━━━━━━━━━━━━━━━━━━━━━━━━━━━━━┓\n",
       "┃<span style=\"font-weight: bold\">    Attribute </span>┃<span style=\"font-weight: bold\"> Value                         </span>┃\n",
       "┡━━━━━━━━━━━━━━╇━━━━━━━━━━━━━━━━━━━━━━━━━━━━━━━┩\n",
       "│<span style=\"color: #008080; text-decoration-color: #008080\">      Version </span>│<span style=\"color: #800080; text-decoration-color: #800080\"> v0+untagged.38.geaea7b6.dirty </span>│\n",
       "│<span style=\"color: #008080; text-decoration-color: #008080\">   Configured </span>│<span style=\"color: #800080; text-decoration-color: #800080\"> True                          </span>│\n",
       "│<span style=\"color: #008080; text-decoration-color: #008080\"> Target Forms </span>│<span style=\"color: #800080; text-decoration-color: #800080\"> ['10-K']                      </span>│\n",
       "│<span style=\"color: #008080; text-decoration-color: #008080\">   Start Date </span>│<span style=\"color: #800080; text-decoration-color: #800080\"> 2021Q3                        </span>│\n",
       "│<span style=\"color: #008080; text-decoration-color: #008080\">     End Date </span>│<span style=\"color: #800080; text-decoration-color: #800080\"> 2025Q1                        </span>│\n",
       "└──────────────┴───────────────────────────────┘\n",
       "</pre>\n"
      ],
      "text/plain": [
       "\u001b[3m           EDGARConnect Configuration           \u001b[0m\n",
       "┏━━━━━━━━━━━━━━┳━━━━━━━━━━━━━━━━━━━━━━━━━━━━━━━┓\n",
       "┃\u001b[1m \u001b[0m\u001b[1m   Attribute\u001b[0m\u001b[1m \u001b[0m┃\u001b[1m \u001b[0m\u001b[1mValue                        \u001b[0m\u001b[1m \u001b[0m┃\n",
       "┡━━━━━━━━━━━━━━╇━━━━━━━━━━━━━━━━━━━━━━━━━━━━━━━┩\n",
       "│\u001b[36m \u001b[0m\u001b[36m     Version\u001b[0m\u001b[36m \u001b[0m│\u001b[35m \u001b[0m\u001b[35mv0+untagged.38.geaea7b6.dirty\u001b[0m\u001b[35m \u001b[0m│\n",
       "│\u001b[36m \u001b[0m\u001b[36m  Configured\u001b[0m\u001b[36m \u001b[0m│\u001b[35m \u001b[0m\u001b[35mTrue                         \u001b[0m\u001b[35m \u001b[0m│\n",
       "│\u001b[36m \u001b[0m\u001b[36mTarget Forms\u001b[0m\u001b[36m \u001b[0m│\u001b[35m \u001b[0m\u001b[35m['10-K']                     \u001b[0m\u001b[35m \u001b[0m│\n",
       "│\u001b[36m \u001b[0m\u001b[36m  Start Date\u001b[0m\u001b[36m \u001b[0m│\u001b[35m \u001b[0m\u001b[35m2021Q3                       \u001b[0m\u001b[35m \u001b[0m│\n",
       "│\u001b[36m \u001b[0m\u001b[36m    End Date\u001b[0m\u001b[36m \u001b[0m│\u001b[35m \u001b[0m\u001b[35m2025Q1                       \u001b[0m\u001b[35m \u001b[0m│\n",
       "└──────────────┴───────────────────────────────┘\n"
      ]
     },
     "metadata": {},
     "output_type": "display_data"
    },
    {
     "name": "stdout",
     "output_type": "stream",
     "text": [
      "\n"
     ]
    }
   ],
   "source": [
    "print(edgar)"
   ]
  },
  {
   "cell_type": "markdown",
   "id": "948e5f07",
   "metadata": {},
   "source": [
    "You can also ask for multiple filings by passing in a list"
   ]
  },
  {
   "cell_type": "code",
   "execution_count": 6,
   "id": "0e6509ef",
   "metadata": {},
   "outputs": [
    {
     "data": {
      "text/html": [
       "<pre style=\"white-space:pre;overflow-x:auto;line-height:normal;font-family:Menlo,'DejaVu Sans Mono',consolas,'Courier New',monospace\"><span style=\"font-style: italic\">           EDGARConnect Configuration           </span>\n",
       "┏━━━━━━━━━━━━━━┳━━━━━━━━━━━━━━━━━━━━━━━━━━━━━━━┓\n",
       "┃<span style=\"font-weight: bold\">    Attribute </span>┃<span style=\"font-weight: bold\"> Value                         </span>┃\n",
       "┡━━━━━━━━━━━━━━╇━━━━━━━━━━━━━━━━━━━━━━━━━━━━━━━┩\n",
       "│<span style=\"color: #008080; text-decoration-color: #008080\">      Version </span>│<span style=\"color: #800080; text-decoration-color: #800080\"> v0+untagged.38.geaea7b6.dirty </span>│\n",
       "│<span style=\"color: #008080; text-decoration-color: #008080\">   Configured </span>│<span style=\"color: #800080; text-decoration-color: #800080\"> True                          </span>│\n",
       "│<span style=\"color: #008080; text-decoration-color: #008080\"> Target Forms </span>│<span style=\"color: #800080; text-decoration-color: #800080\"> ['10-K', '10-Q']              </span>│\n",
       "│<span style=\"color: #008080; text-decoration-color: #008080\">   Start Date </span>│<span style=\"color: #800080; text-decoration-color: #800080\"> 2021Q3                        </span>│\n",
       "│<span style=\"color: #008080; text-decoration-color: #008080\">     End Date </span>│<span style=\"color: #800080; text-decoration-color: #800080\"> 2025Q1                        </span>│\n",
       "└──────────────┴───────────────────────────────┘\n",
       "</pre>\n"
      ],
      "text/plain": [
       "\u001b[3m           EDGARConnect Configuration           \u001b[0m\n",
       "┏━━━━━━━━━━━━━━┳━━━━━━━━━━━━━━━━━━━━━━━━━━━━━━━┓\n",
       "┃\u001b[1m \u001b[0m\u001b[1m   Attribute\u001b[0m\u001b[1m \u001b[0m┃\u001b[1m \u001b[0m\u001b[1mValue                        \u001b[0m\u001b[1m \u001b[0m┃\n",
       "┡━━━━━━━━━━━━━━╇━━━━━━━━━━━━━━━━━━━━━━━━━━━━━━━┩\n",
       "│\u001b[36m \u001b[0m\u001b[36m     Version\u001b[0m\u001b[36m \u001b[0m│\u001b[35m \u001b[0m\u001b[35mv0+untagged.38.geaea7b6.dirty\u001b[0m\u001b[35m \u001b[0m│\n",
       "│\u001b[36m \u001b[0m\u001b[36m  Configured\u001b[0m\u001b[36m \u001b[0m│\u001b[35m \u001b[0m\u001b[35mTrue                         \u001b[0m\u001b[35m \u001b[0m│\n",
       "│\u001b[36m \u001b[0m\u001b[36mTarget Forms\u001b[0m\u001b[36m \u001b[0m│\u001b[35m \u001b[0m\u001b[35m['10-K', '10-Q']             \u001b[0m\u001b[35m \u001b[0m│\n",
       "│\u001b[36m \u001b[0m\u001b[36m  Start Date\u001b[0m\u001b[36m \u001b[0m│\u001b[35m \u001b[0m\u001b[35m2021Q3                       \u001b[0m\u001b[35m \u001b[0m│\n",
       "│\u001b[36m \u001b[0m\u001b[36m    End Date\u001b[0m\u001b[36m \u001b[0m│\u001b[35m \u001b[0m\u001b[35m2025Q1                       \u001b[0m\u001b[35m \u001b[0m│\n",
       "└──────────────┴───────────────────────────────┘\n"
      ]
     },
     "metadata": {},
     "output_type": "display_data"
    },
    {
     "name": "stdout",
     "output_type": "stream",
     "text": [
      "\n"
     ]
    }
   ],
   "source": [
    "edgar.configure_downloader(\n",
    "    target_forms=[\"10-K\", \"10-Q\"], start_date=\"2021-07-01\", end_date=None\n",
    ")\n",
    "print(edgar)"
   ]
  },
  {
   "cell_type": "markdown",
   "id": "e1422c87",
   "metadata": {},
   "source": [
    "Finally, for convenience, the EDGARConnect instance has a built-in dictionary of closely related forms. These lists were taken from Bill McDonald and Tim Loughran's EDGAR download script. Keys for the built-in dictionary can be displayed using the <code>show_available_forms()</code> method"
   ]
  },
  {
   "cell_type": "code",
   "execution_count": 7,
   "id": "5b2a0fea",
   "metadata": {},
   "outputs": [
    {
     "data": {
      "text/html": [
       "<pre style=\"white-space:pre;overflow-x:auto;line-height:normal;font-family:Menlo,'DejaVu Sans Mono',consolas,'Courier New',monospace\"><span style=\"font-style: italic\">                                                  Available Forms                                                  </span>\n",
       "┏━━━━━━━━━━┳━━━━━━━━━━━━━━━━━━━━━━━━━━━━━━━━━━━━━━━━━━━━━━━━━━━━━━━━━━━━━━━━━━━━━━━━━━━━━━━━━━━━━━━━━━━━━━━━━━━━━━┓\n",
       "┃<span style=\"font-weight: bold\"> Form Key </span>┃<span style=\"font-weight: bold\"> Form Names                                                                                           </span>┃\n",
       "┡━━━━━━━━━━╇━━━━━━━━━━━━━━━━━━━━━━━━━━━━━━━━━━━━━━━━━━━━━━━━━━━━━━━━━━━━━━━━━━━━━━━━━━━━━━━━━━━━━━━━━━━━━━━━━━━━━━┩\n",
       "│<span style=\"color: #008080; text-decoration-color: #008080\">    f_10k </span>│<span style=\"color: #800080; text-decoration-color: #800080\"> 10-K, 10-K405, 10KSB, 10-KSB, 10KSB40                                                                </span>│\n",
       "│<span style=\"color: #008080; text-decoration-color: #008080\">   f_10ka </span>│<span style=\"color: #800080; text-decoration-color: #800080\"> 10-K/A, 10-K405/A, 10KSB/A, 10-KSB/A, 10KSB40/A                                                      </span>│\n",
       "│<span style=\"color: #008080; text-decoration-color: #008080\">   f_10kt </span>│<span style=\"color: #800080; text-decoration-color: #800080\"> 10-KT, 10KT405, 10-KT/A, 10KT405/A                                                                   </span>│\n",
       "│<span style=\"color: #008080; text-decoration-color: #008080\">    f_10q </span>│<span style=\"color: #800080; text-decoration-color: #800080\"> 10-Q, 10QSB, 10-QSB                                                                                  </span>│\n",
       "│<span style=\"color: #008080; text-decoration-color: #008080\">   f_10qa </span>│<span style=\"color: #800080; text-decoration-color: #800080\"> 10-Q/A, 10QSB/A, 10-QSB/A                                                                            </span>│\n",
       "│<span style=\"color: #008080; text-decoration-color: #008080\">   f_10qt </span>│<span style=\"color: #800080; text-decoration-color: #800080\"> 10-QT, 10-QT/A                                                                                       </span>│\n",
       "│<span style=\"color: #008080; text-decoration-color: #008080\">    f_10x </span>│<span style=\"color: #800080; text-decoration-color: #800080\"> 10-K, 10-K405, 10KSB, 10-KSB, 10KSB40, 10-K/A, 10-K405/A, 10KSB/A, 10-KSB/A, 10KSB40/A, 10-KT,       </span>│\n",
       "│<span style=\"color: #008080; text-decoration-color: #008080\">          </span>│<span style=\"color: #800080; text-decoration-color: #800080\"> 10KT405, 10-KT/A, 10KT405/A, 10-Q, 10QSB, 10-QSB, 10-Q/A, 10QSB/A, 10-QSB/A, 10-QT, 10-QT/A          </span>│\n",
       "└──────────┴──────────────────────────────────────────────────────────────────────────────────────────────────────┘\n",
       "</pre>\n"
      ],
      "text/plain": [
       "\u001b[3m                                                  Available Forms                                                  \u001b[0m\n",
       "┏━━━━━━━━━━┳━━━━━━━━━━━━━━━━━━━━━━━━━━━━━━━━━━━━━━━━━━━━━━━━━━━━━━━━━━━━━━━━━━━━━━━━━━━━━━━━━━━━━━━━━━━━━━━━━━━━━━┓\n",
       "┃\u001b[1m \u001b[0m\u001b[1mForm Key\u001b[0m\u001b[1m \u001b[0m┃\u001b[1m \u001b[0m\u001b[1mForm Names                                                                                          \u001b[0m\u001b[1m \u001b[0m┃\n",
       "┡━━━━━━━━━━╇━━━━━━━━━━━━━━━━━━━━━━━━━━━━━━━━━━━━━━━━━━━━━━━━━━━━━━━━━━━━━━━━━━━━━━━━━━━━━━━━━━━━━━━━━━━━━━━━━━━━━━┩\n",
       "│\u001b[36m \u001b[0m\u001b[36m   f_10k\u001b[0m\u001b[36m \u001b[0m│\u001b[35m \u001b[0m\u001b[35m10-K, 10-K405, 10KSB, 10-KSB, 10KSB40                                                               \u001b[0m\u001b[35m \u001b[0m│\n",
       "│\u001b[36m \u001b[0m\u001b[36m  f_10ka\u001b[0m\u001b[36m \u001b[0m│\u001b[35m \u001b[0m\u001b[35m10-K/A, 10-K405/A, 10KSB/A, 10-KSB/A, 10KSB40/A                                                     \u001b[0m\u001b[35m \u001b[0m│\n",
       "│\u001b[36m \u001b[0m\u001b[36m  f_10kt\u001b[0m\u001b[36m \u001b[0m│\u001b[35m \u001b[0m\u001b[35m10-KT, 10KT405, 10-KT/A, 10KT405/A                                                                  \u001b[0m\u001b[35m \u001b[0m│\n",
       "│\u001b[36m \u001b[0m\u001b[36m   f_10q\u001b[0m\u001b[36m \u001b[0m│\u001b[35m \u001b[0m\u001b[35m10-Q, 10QSB, 10-QSB                                                                                 \u001b[0m\u001b[35m \u001b[0m│\n",
       "│\u001b[36m \u001b[0m\u001b[36m  f_10qa\u001b[0m\u001b[36m \u001b[0m│\u001b[35m \u001b[0m\u001b[35m10-Q/A, 10QSB/A, 10-QSB/A                                                                           \u001b[0m\u001b[35m \u001b[0m│\n",
       "│\u001b[36m \u001b[0m\u001b[36m  f_10qt\u001b[0m\u001b[36m \u001b[0m│\u001b[35m \u001b[0m\u001b[35m10-QT, 10-QT/A                                                                                      \u001b[0m\u001b[35m \u001b[0m│\n",
       "│\u001b[36m \u001b[0m\u001b[36m   f_10x\u001b[0m\u001b[36m \u001b[0m│\u001b[35m \u001b[0m\u001b[35m10-K, 10-K405, 10KSB, 10-KSB, 10KSB40, 10-K/A, 10-K405/A, 10KSB/A, 10-KSB/A, 10KSB40/A, 10-KT,      \u001b[0m\u001b[35m \u001b[0m│\n",
       "│\u001b[36m          \u001b[0m│\u001b[35m \u001b[0m\u001b[35m10KT405, 10-KT/A, 10KT405/A, 10-Q, 10QSB, 10-QSB, 10-Q/A, 10QSB/A, 10-QSB/A, 10-QT, 10-QT/A         \u001b[0m\u001b[35m \u001b[0m│\n",
       "└──────────┴──────────────────────────────────────────────────────────────────────────────────────────────────────┘\n"
      ]
     },
     "metadata": {},
     "output_type": "display_data"
    }
   ],
   "source": [
    "edgar.show_available_forms()"
   ]
  },
  {
   "cell_type": "markdown",
   "id": "bab905f9",
   "metadata": {},
   "source": [
    "And the list can be accessed as follows:"
   ]
  },
  {
   "cell_type": "code",
   "execution_count": 8,
   "id": "0ecafa50",
   "metadata": {},
   "outputs": [
    {
     "data": {
      "text/html": [
       "<pre style=\"white-space:pre;overflow-x:auto;line-height:normal;font-family:Menlo,'DejaVu Sans Mono',consolas,'Courier New',monospace\"><span style=\"font-style: italic\">                     EDGARConnect Configuration                     </span>\n",
       "┏━━━━━━━━━━━━━━┳━━━━━━━━━━━━━━━━━━━━━━━━━━━━━━━━━━━━━━━━━━━━━━━━━━━┓\n",
       "┃<span style=\"font-weight: bold\">    Attribute </span>┃<span style=\"font-weight: bold\"> Value                                             </span>┃\n",
       "┡━━━━━━━━━━━━━━╇━━━━━━━━━━━━━━━━━━━━━━━━━━━━━━━━━━━━━━━━━━━━━━━━━━━┩\n",
       "│<span style=\"color: #008080; text-decoration-color: #008080\">      Version </span>│<span style=\"color: #800080; text-decoration-color: #800080\"> v0+untagged.38.geaea7b6.dirty                     </span>│\n",
       "│<span style=\"color: #008080; text-decoration-color: #008080\">   Configured </span>│<span style=\"color: #800080; text-decoration-color: #800080\"> True                                              </span>│\n",
       "│<span style=\"color: #008080; text-decoration-color: #008080\"> Target Forms </span>│<span style=\"color: #800080; text-decoration-color: #800080\"> ['10-K', '10-K405', '10KSB', '10-KSB', '10KSB40'] </span>│\n",
       "│<span style=\"color: #008080; text-decoration-color: #008080\">   Start Date </span>│<span style=\"color: #800080; text-decoration-color: #800080\"> 2024Q3                                            </span>│\n",
       "│<span style=\"color: #008080; text-decoration-color: #008080\">     End Date </span>│<span style=\"color: #800080; text-decoration-color: #800080\"> 2025Q1                                            </span>│\n",
       "└──────────────┴───────────────────────────────────────────────────┘\n",
       "</pre>\n"
      ],
      "text/plain": [
       "\u001b[3m                     EDGARConnect Configuration                     \u001b[0m\n",
       "┏━━━━━━━━━━━━━━┳━━━━━━━━━━━━━━━━━━━━━━━━━━━━━━━━━━━━━━━━━━━━━━━━━━━┓\n",
       "┃\u001b[1m \u001b[0m\u001b[1m   Attribute\u001b[0m\u001b[1m \u001b[0m┃\u001b[1m \u001b[0m\u001b[1mValue                                            \u001b[0m\u001b[1m \u001b[0m┃\n",
       "┡━━━━━━━━━━━━━━╇━━━━━━━━━━━━━━━━━━━━━━━━━━━━━━━━━━━━━━━━━━━━━━━━━━━┩\n",
       "│\u001b[36m \u001b[0m\u001b[36m     Version\u001b[0m\u001b[36m \u001b[0m│\u001b[35m \u001b[0m\u001b[35mv0+untagged.38.geaea7b6.dirty                    \u001b[0m\u001b[35m \u001b[0m│\n",
       "│\u001b[36m \u001b[0m\u001b[36m  Configured\u001b[0m\u001b[36m \u001b[0m│\u001b[35m \u001b[0m\u001b[35mTrue                                             \u001b[0m\u001b[35m \u001b[0m│\n",
       "│\u001b[36m \u001b[0m\u001b[36mTarget Forms\u001b[0m\u001b[36m \u001b[0m│\u001b[35m \u001b[0m\u001b[35m['10-K', '10-K405', '10KSB', '10-KSB', '10KSB40']\u001b[0m\u001b[35m \u001b[0m│\n",
       "│\u001b[36m \u001b[0m\u001b[36m  Start Date\u001b[0m\u001b[36m \u001b[0m│\u001b[35m \u001b[0m\u001b[35m2024Q3                                           \u001b[0m\u001b[35m \u001b[0m│\n",
       "│\u001b[36m \u001b[0m\u001b[36m    End Date\u001b[0m\u001b[36m \u001b[0m│\u001b[35m \u001b[0m\u001b[35m2025Q1                                           \u001b[0m\u001b[35m \u001b[0m│\n",
       "└──────────────┴───────────────────────────────────────────────────┘\n"
      ]
     },
     "metadata": {},
     "output_type": "display_data"
    },
    {
     "name": "stdout",
     "output_type": "stream",
     "text": [
      "\n"
     ]
    }
   ],
   "source": [
    "edgar.configure_downloader(\n",
    "    target_forms=edgar.forms[\"f_10k\"], start_date=\"2024-07-01\", end_date=None\n",
    ")\n",
    "print(edgar)"
   ]
  },
  {
   "cell_type": "markdown",
   "id": "726604d4",
   "metadata": {},
   "source": [
    "## Download the Master Indexes\n",
    "\n",
    "EDGARConnect first downloads all the SEC master indexes to your HDD. To do this, use the download_master_indexes() method. These files are quarterly pipe-delimited tables of URLs to corporate filings. By default, EDGARConnect will update the 2 most recent quarters every time you run download_master_indexes(), but you can modify this behavior by passing parameters. "
   ]
  },
  {
   "cell_type": "code",
   "execution_count": 9,
   "id": "1be43a8c",
   "metadata": {},
   "outputs": [
    {
     "data": {
      "application/vnd.jupyter.widget-view+json": {
       "model_id": "6990b56c0a5541cf8a21dbbb7b9d4486",
       "version_major": 2,
       "version_minor": 0
      },
      "text/plain": [
       "Output()"
      ]
     },
     "metadata": {},
     "output_type": "display_data"
    },
    {
     "data": {
      "text/html": [
       "<pre style=\"white-space:pre;overflow-x:auto;line-height:normal;font-family:Menlo,'DejaVu Sans Mono',consolas,'Courier New',monospace\"></pre>\n"
      ],
      "text/plain": []
     },
     "metadata": {},
     "output_type": "display_data"
    }
   ],
   "source": [
    "edgar.download_master_indexes(update_range=0, update_all=False)"
   ]
  },
  {
   "cell_type": "markdown",
   "id": "198511e6",
   "metadata": {},
   "source": [
    "## Check Download Plan\n",
    "\n",
    "After the master lists are downloaded, EDGARConnect can download everything you request from the SEC archive. You can show the download plan using the show_download_plan() method. This is important because the number of filings is quite surprising... it's nice to know what you're signing up for."
   ]
  },
  {
   "cell_type": "code",
   "execution_count": 10,
   "id": "c49c721a",
   "metadata": {
    "scrolled": true
   },
   "outputs": [
    {
     "name": "stdout",
     "output_type": "stream",
     "text": [
      "EDGARConnect is prepared to download 5 types of filings between 2024Q3 and 2025Q1\n",
      "\tNumber of 10-Ks: 5579\n",
      "\tNumber of 10-K405s: 0\n",
      "\tNumber of 10KSBs: 0\n",
      "\tNumber of 10-KSBs: 0\n",
      "\tNumber of 10KSB40s: 0\n",
      "==============================\n",
      "\tTotal files: 5579\n",
      "Estimated download time, assuming 1s per file: 0 Days, 1 hours, 32 minutes, 59 seconds\n",
      "Estimated drive space, assuming 150KB per filing: 0.84GB\n"
     ]
    }
   ],
   "source": [
    "edgar.show_download_plan()"
   ]
  },
  {
   "cell_type": "markdown",
   "id": "3fa9e1e0",
   "metadata": {},
   "source": [
    "# Downloading\n",
    "\n",
    "When you're ready to go, use the download_requested_filings() method to start grabbing stuff. It will always check if a file already exists and skip it if it does, so it is robust to starts and stops."
   ]
  },
  {
   "cell_type": "code",
   "execution_count": null,
   "id": "e0a7b3a8",
   "metadata": {},
   "outputs": [
    {
     "data": {
      "application/vnd.jupyter.widget-view+json": {
       "model_id": "d89056521e124f958f8ff66931707ae9",
       "version_major": 2,
       "version_minor": 0
      },
      "text/plain": [
       "Output()"
      ]
     },
     "metadata": {},
     "output_type": "display_data"
    },
    {
     "data": {
      "text/html": [
       "<pre style=\"white-space:pre;overflow-x:auto;line-height:normal;font-family:Menlo,'DejaVu Sans Mono',consolas,'Courier New',monospace\">Beginning scraping from 2024Q3\n",
       "</pre>\n"
      ],
      "text/plain": [
       "Beginning scraping from 2024Q3\n"
      ]
     },
     "metadata": {},
     "output_type": "display_data"
    },
    {
     "name": "stdout",
     "output_type": "stream",
     "text": [
      "Gathering URLS for the requested forms...\n"
     ]
    },
    {
     "data": {
      "text/html": [
       "<pre style=\"white-space:pre;overflow-x:auto;line-height:normal;font-family:Menlo,'DejaVu Sans Mono',consolas,'Courier New',monospace\">2024Q3 10-K       Found 104 / 413 locally, requesting the remaining 309...\n",
       "</pre>\n"
      ],
      "text/plain": [
       "2024Q3 10-K       Found 104 / 413 locally, requesting the remaining 309...\n"
      ]
     },
     "metadata": {},
     "output_type": "display_data"
    }
   ],
   "source": [
    "edgar.download_requested_filings(\n",
    "    ignore_time_guidelines=False,\n",
    "    remove_attachments=False,\n",
    ")"
   ]
  },
  {
   "cell_type": "markdown",
   "id": "bbc9122b",
   "metadata": {},
   "source": [
    "There are two arguments that can be passed to the <code>download_requested_filings()</code> method. \n",
    "\n",
    "The first is <code>ignore_time_guidelines</code>. The SEC requests that users bulk download only between 9PM and 6AM EST. By default, EDGARConnect will help you check if it's a good time to download and raise an error if it's not. It will also perform this check periodically while downloads are going on (it does it every time a new batch of forms is selected for download).\n",
    "\n",
    "To disable this behavior, pass <code>ignore_time_guidelines = True</code>. If your download times slow to a crawl it's because the SEC identified you as a mass-downloader and throttled you.\n",
    "\n",
    "The second is <code>remove_attachments</code>. Despite being .txt files, some filings include large images, spreadsheets, or PDFs, causing the filings to be quite large (the largest I found was 250 MB). If you don't explicitly need these attachments, I recommend passing <code>remove_attachments = True</code>. This will pass all downloaded filings into a function that tries to strip out as many of these attachments as possible, saving considerable disk space when downloading large numbers of filings."
   ]
  }
 ],
 "metadata": {
  "kernelspec": {
   "display_name": "Python 3 (ipykernel)",
   "language": "python",
   "name": "python3"
  },
  "language_info": {
   "codemirror_mode": {
    "name": "ipython",
    "version": 3
   },
   "file_extension": ".py",
   "mimetype": "text/x-python",
   "name": "python",
   "nbconvert_exporter": "python",
   "pygments_lexer": "ipython3",
   "version": "3.12.9"
  },
  "toc": {
   "base_numbering": 1,
   "nav_menu": {},
   "number_sections": true,
   "sideBar": true,
   "skip_h1_title": false,
   "title_cell": "Table of Contents",
   "title_sidebar": "Contents",
   "toc_cell": true,
   "toc_position": {},
   "toc_section_display": true,
   "toc_window_display": false
  }
 },
 "nbformat": 4,
 "nbformat_minor": 5
}
